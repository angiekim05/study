{
  "nbformat": 4,
  "nbformat_minor": 0,
  "metadata": {
    "colab": {
      "provenance": [],
      "authorship_tag": "ABX9TyNkaOs89GF3X9MZUpTCm9a7",
      "include_colab_link": true
    },
    "kernelspec": {
      "name": "python3",
      "display_name": "Python 3"
    },
    "language_info": {
      "name": "python"
    },
    "gpuClass": "standard"
  },
  "cells": [
    {
      "cell_type": "markdown",
      "metadata": {
        "id": "view-in-github",
        "colab_type": "text"
      },
      "source": [
        "<a href=\"https://colab.research.google.com/github/angiekim05/study/blob/master/Paper_Code_Practice/Transformer/Attention_is_All_You_Need_(Transformer).ipynb\" target=\"_parent\"><img src=\"https://colab.research.google.com/assets/colab-badge.svg\" alt=\"Open In Colab\"/></a>"
      ]
    },
    {
      "cell_type": "markdown",
      "source": [
        "# Attention is All You Need 코드 구현해보기"
      ],
      "metadata": {
        "id": "xucmt-Fblj9b"
      }
    },
    {
      "cell_type": "markdown",
      "source": [
        "2022년 12월 기준\n",
        "- torchtext 0.14.0 버전\n",
        "- 참고 자료\n",
        "  - 논문: [Attension Is All You Need](https://arxiv.org/pdf/1706.03762.pdf)\n",
        "  - 전처리: [nkw011님의 블로그](https://velog.io/@nkw011/nlp-dataset-dataloader)\n",
        "  - 모델: [hyunwoongko님의 깃허브](https://github.com/hyunwoongko/transformer)\n",
        "  - 모델: [devsaka님의 블로그](https://catsirup.github.io/ai/2020/04/09/transformer-code.html)"
      ],
      "metadata": {
        "id": "WHnaGt9XWALR"
      }
    },
    {
      "cell_type": "markdown",
      "source": [
        "## 1. 데이터 전처리\n",
        "- 모델 구현 전, 모델 학습에 사용될 데이터 준비\n",
        "- http://www.manythings.org/anki/ 에서 제공하는 한국어-영어 데이터셋 활용"
      ],
      "metadata": {
        "id": "JHdCj-DUl6eA"
      }
    },
    {
      "cell_type": "markdown",
      "source": [
        "### 1) 데이터셋 불러오기"
      ],
      "metadata": {
        "id": "dEq5S8IP1LAP"
      }
    },
    {
      "cell_type": "code",
      "source": [
        "!wget http://www.manythings.org/anki/kor-eng.zip -O kor-eng.zip\n",
        "!unzip kor-eng.zip"
      ],
      "metadata": {
        "colab": {
          "base_uri": "https://localhost:8080/"
        },
        "id": "SYPDLAT8dN0t",
        "outputId": "ace9ce5c-ab01-46cd-8037-89091db81ba9"
      },
      "execution_count": null,
      "outputs": [
        {
          "output_type": "stream",
          "name": "stdout",
          "text": [
            "--2022-12-12 01:48:08--  http://www.manythings.org/anki/kor-eng.zip\n",
            "Resolving www.manythings.org (www.manythings.org)... 173.254.30.110\n",
            "Connecting to www.manythings.org (www.manythings.org)|173.254.30.110|:80... connected.\n",
            "HTTP request sent, awaiting response... 200 OK\n",
            "Length: 153571 (150K) [application/zip]\n",
            "Saving to: ‘kor-eng.zip’\n",
            "\n",
            "kor-eng.zip         100%[===================>] 149.97K  --.-KB/s    in 0.1s    \n",
            "\n",
            "2022-12-12 01:48:08 (1.05 MB/s) - ‘kor-eng.zip’ saved [153571/153571]\n",
            "\n",
            "Archive:  kor-eng.zip\n",
            "  inflating: _about.txt              \n",
            "  inflating: kor.txt                 \n"
          ]
        }
      ]
    },
    {
      "cell_type": "markdown",
      "source": [
        "- 데이터셋 확인\n",
        "- 데이터 셔플을 통해 랜덤으로 섞어줌으로써 추후 train,valid,test 분리를 쉽게 함\n"
      ],
      "metadata": {
        "id": "XrbEqSBInw7R"
      }
    },
    {
      "cell_type": "code",
      "source": [
        "import pandas as pd\n",
        "data = pd.read_csv('kor.txt', delimiter=\"\\t\", header=None, names = ['en', 'ko', 'cc'])\n",
        "data = data.sample(frac=1, random_state=0).reset_index(drop=True)\n",
        "data.tail(1)"
      ],
      "metadata": {
        "colab": {
          "base_uri": "https://localhost:8080/",
          "height": 142
        },
        "id": "sB-K9D5lnMi-",
        "outputId": "96e22fcd-5fce-4247-ac83-999e97fd6c57"
      },
      "execution_count": null,
      "outputs": [
        {
          "output_type": "execute_result",
          "data": {
            "text/plain": [
              "                                      en                 ko  \\\n",
              "3852  Don't act like you're so innocent.  너 그렇게 순수한 척 하지 마.   \n",
              "\n",
              "                                                     cc  \n",
              "3852  CC-BY 2.0 (France) Attribution: tatoeba.org #7...  "
            ],
            "text/html": [
              "\n",
              "  <div id=\"df-189bca00-49c8-4aaa-bbde-7d098d979efa\">\n",
              "    <div class=\"colab-df-container\">\n",
              "      <div>\n",
              "<style scoped>\n",
              "    .dataframe tbody tr th:only-of-type {\n",
              "        vertical-align: middle;\n",
              "    }\n",
              "\n",
              "    .dataframe tbody tr th {\n",
              "        vertical-align: top;\n",
              "    }\n",
              "\n",
              "    .dataframe thead th {\n",
              "        text-align: right;\n",
              "    }\n",
              "</style>\n",
              "<table border=\"1\" class=\"dataframe\">\n",
              "  <thead>\n",
              "    <tr style=\"text-align: right;\">\n",
              "      <th></th>\n",
              "      <th>en</th>\n",
              "      <th>ko</th>\n",
              "      <th>cc</th>\n",
              "    </tr>\n",
              "  </thead>\n",
              "  <tbody>\n",
              "    <tr>\n",
              "      <th>3852</th>\n",
              "      <td>Don't act like you're so innocent.</td>\n",
              "      <td>너 그렇게 순수한 척 하지 마.</td>\n",
              "      <td>CC-BY 2.0 (France) Attribution: tatoeba.org #7...</td>\n",
              "    </tr>\n",
              "  </tbody>\n",
              "</table>\n",
              "</div>\n",
              "      <button class=\"colab-df-convert\" onclick=\"convertToInteractive('df-189bca00-49c8-4aaa-bbde-7d098d979efa')\"\n",
              "              title=\"Convert this dataframe to an interactive table.\"\n",
              "              style=\"display:none;\">\n",
              "        \n",
              "  <svg xmlns=\"http://www.w3.org/2000/svg\" height=\"24px\"viewBox=\"0 0 24 24\"\n",
              "       width=\"24px\">\n",
              "    <path d=\"M0 0h24v24H0V0z\" fill=\"none\"/>\n",
              "    <path d=\"M18.56 5.44l.94 2.06.94-2.06 2.06-.94-2.06-.94-.94-2.06-.94 2.06-2.06.94zm-11 1L8.5 8.5l.94-2.06 2.06-.94-2.06-.94L8.5 2.5l-.94 2.06-2.06.94zm10 10l.94 2.06.94-2.06 2.06-.94-2.06-.94-.94-2.06-.94 2.06-2.06.94z\"/><path d=\"M17.41 7.96l-1.37-1.37c-.4-.4-.92-.59-1.43-.59-.52 0-1.04.2-1.43.59L10.3 9.45l-7.72 7.72c-.78.78-.78 2.05 0 2.83L4 21.41c.39.39.9.59 1.41.59.51 0 1.02-.2 1.41-.59l7.78-7.78 2.81-2.81c.8-.78.8-2.07 0-2.86zM5.41 20L4 18.59l7.72-7.72 1.47 1.35L5.41 20z\"/>\n",
              "  </svg>\n",
              "      </button>\n",
              "      \n",
              "  <style>\n",
              "    .colab-df-container {\n",
              "      display:flex;\n",
              "      flex-wrap:wrap;\n",
              "      gap: 12px;\n",
              "    }\n",
              "\n",
              "    .colab-df-convert {\n",
              "      background-color: #E8F0FE;\n",
              "      border: none;\n",
              "      border-radius: 50%;\n",
              "      cursor: pointer;\n",
              "      display: none;\n",
              "      fill: #1967D2;\n",
              "      height: 32px;\n",
              "      padding: 0 0 0 0;\n",
              "      width: 32px;\n",
              "    }\n",
              "\n",
              "    .colab-df-convert:hover {\n",
              "      background-color: #E2EBFA;\n",
              "      box-shadow: 0px 1px 2px rgba(60, 64, 67, 0.3), 0px 1px 3px 1px rgba(60, 64, 67, 0.15);\n",
              "      fill: #174EA6;\n",
              "    }\n",
              "\n",
              "    [theme=dark] .colab-df-convert {\n",
              "      background-color: #3B4455;\n",
              "      fill: #D2E3FC;\n",
              "    }\n",
              "\n",
              "    [theme=dark] .colab-df-convert:hover {\n",
              "      background-color: #434B5C;\n",
              "      box-shadow: 0px 1px 3px 1px rgba(0, 0, 0, 0.15);\n",
              "      filter: drop-shadow(0px 1px 2px rgba(0, 0, 0, 0.3));\n",
              "      fill: #FFFFFF;\n",
              "    }\n",
              "  </style>\n",
              "\n",
              "      <script>\n",
              "        const buttonEl =\n",
              "          document.querySelector('#df-189bca00-49c8-4aaa-bbde-7d098d979efa button.colab-df-convert');\n",
              "        buttonEl.style.display =\n",
              "          google.colab.kernel.accessAllowed ? 'block' : 'none';\n",
              "\n",
              "        async function convertToInteractive(key) {\n",
              "          const element = document.querySelector('#df-189bca00-49c8-4aaa-bbde-7d098d979efa');\n",
              "          const dataTable =\n",
              "            await google.colab.kernel.invokeFunction('convertToInteractive',\n",
              "                                                     [key], {});\n",
              "          if (!dataTable) return;\n",
              "\n",
              "          const docLinkHtml = 'Like what you see? Visit the ' +\n",
              "            '<a target=\"_blank\" href=https://colab.research.google.com/notebooks/data_table.ipynb>data table notebook</a>'\n",
              "            + ' to learn more about interactive tables.';\n",
              "          element.innerHTML = '';\n",
              "          dataTable['output_type'] = 'display_data';\n",
              "          await google.colab.output.renderOutput(dataTable, element);\n",
              "          const docLink = document.createElement('div');\n",
              "          docLink.innerHTML = docLinkHtml;\n",
              "          element.appendChild(docLink);\n",
              "        }\n",
              "      </script>\n",
              "    </div>\n",
              "  </div>\n",
              "  "
            ]
          },
          "metadata": {},
          "execution_count": 2
        }
      ]
    },
    {
      "cell_type": "markdown",
      "source": [
        "### 2) 형태소 분석 / 토큰화\n",
        "- 한국어 형태소 분석기 파이썬 패키지"
      ],
      "metadata": {
        "id": "URZD477Yt-K4"
      }
    },
    {
      "cell_type": "code",
      "source": [
        "! pip install konlpy"
      ],
      "metadata": {
        "colab": {
          "base_uri": "https://localhost:8080/"
        },
        "id": "D1I7OdR_tkuo",
        "outputId": "9c8a7223-4afb-4980-c1c9-5b5f726a4af8"
      },
      "execution_count": null,
      "outputs": [
        {
          "output_type": "stream",
          "name": "stdout",
          "text": [
            "Looking in indexes: https://pypi.org/simple, https://us-python.pkg.dev/colab-wheels/public/simple/\n",
            "Collecting konlpy\n",
            "  Downloading konlpy-0.6.0-py2.py3-none-any.whl (19.4 MB)\n",
            "\u001b[K     |████████████████████████████████| 19.4 MB 1.2 MB/s \n",
            "\u001b[?25hRequirement already satisfied: lxml>=4.1.0 in /usr/local/lib/python3.8/dist-packages (from konlpy) (4.9.1)\n",
            "Collecting JPype1>=0.7.0\n",
            "  Downloading JPype1-1.4.1-cp38-cp38-manylinux_2_12_x86_64.manylinux2010_x86_64.whl (465 kB)\n",
            "\u001b[K     |████████████████████████████████| 465 kB 52.5 MB/s \n",
            "\u001b[?25hRequirement already satisfied: numpy>=1.6 in /usr/local/lib/python3.8/dist-packages (from konlpy) (1.21.6)\n",
            "Requirement already satisfied: packaging in /usr/local/lib/python3.8/dist-packages (from JPype1>=0.7.0->konlpy) (21.3)\n",
            "Requirement already satisfied: pyparsing!=3.0.5,>=2.0.2 in /usr/local/lib/python3.8/dist-packages (from packaging->JPype1>=0.7.0->konlpy) (3.0.9)\n",
            "Installing collected packages: JPype1, konlpy\n",
            "Successfully installed JPype1-1.4.1 konlpy-0.6.0\n"
          ]
        }
      ]
    },
    {
      "cell_type": "markdown",
      "source": [
        "- 한국어 형태소 분석 예시"
      ],
      "metadata": {
        "id": "QJGsU4K6uBJZ"
      }
    },
    {
      "cell_type": "code",
      "source": [
        "from konlpy.tag import Komoran\n",
        "tokenizer = Komoran()\n",
        "def tokenize_ko(text):\n",
        "    return tokenizer.morphs(text)\n",
        "text = data[\"ko\"][1500]\n",
        "tokenize_ko(text)"
      ],
      "metadata": {
        "colab": {
          "base_uri": "https://localhost:8080/"
        },
        "id": "2AewSzwgnSON",
        "outputId": "10a49983-6124-4719-81d7-ab07e4422885"
      },
      "execution_count": null,
      "outputs": [
        {
          "output_type": "execute_result",
          "data": {
            "text/plain": [
              "['톰', '은', '고양이', '를', '싫어하', '아', '.']"
            ]
          },
          "metadata": {},
          "execution_count": 4
        }
      ]
    },
    {
      "cell_type": "markdown",
      "source": [
        "- 영어 형태소 분석 예시"
      ],
      "metadata": {
        "id": "jg0p49czuD9O"
      }
    },
    {
      "cell_type": "code",
      "source": [
        "import spacy\n",
        "spacy_en = spacy.load('en_core_web_sm')\n",
        "def tokenize_en(text):\n",
        "    return [token.text for token in spacy_en.tokenizer(text)]\n",
        "text = data[\"en\"][1500]\n",
        "tokenize_en(text)"
      ],
      "metadata": {
        "colab": {
          "base_uri": "https://localhost:8080/"
        },
        "id": "yy-wOEHIs_J4",
        "outputId": "b97e4ed6-3822-41e6-ec55-9b5ea7caee73"
      },
      "execution_count": null,
      "outputs": [
        {
          "output_type": "stream",
          "name": "stderr",
          "text": [
            "/usr/local/lib/python3.8/dist-packages/torch/cuda/__init__.py:497: UserWarning: Can't initialize NVML\n",
            "  warnings.warn(\"Can't initialize NVML\")\n"
          ]
        },
        {
          "output_type": "execute_result",
          "data": {
            "text/plain": [
              "['Tom', 'hates', 'cats', '.']"
            ]
          },
          "metadata": {},
          "execution_count": 5
        }
      ]
    },
    {
      "cell_type": "markdown",
      "source": [
        "- 데이터가 많지 않음으로 데이터프레임에서 바로 토큰화\n",
        "- 최소,최대 토큰의 길이도 확인\n",
        "- max_seq_length = 111"
      ],
      "metadata": {
        "id": "xi7lC391Ev3-"
      }
    },
    {
      "cell_type": "code",
      "source": [
        "data['ko_token'] = data['ko'].apply(lambda row: tokenize_en(row))\n",
        "data['en_token'] = data['en'].apply(lambda row: tokenize_en(row))\n",
        "data['ko_cnt'] = data['ko_token'].apply(lambda row: len(row))\n",
        "data['en_cnt'] = data['en_token'].apply(lambda row: len(row))\n",
        "print(\"ko:\",min(data['ko_cnt']),\"~\",max(data['ko_cnt']),\", en:\",min(data['en_cnt']),\"~\",max(data['en_cnt']))"
      ],
      "metadata": {
        "colab": {
          "base_uri": "https://localhost:8080/"
        },
        "id": "hU8duy-GDwNj",
        "outputId": "854f3476-ab19-4492-ac48-9dbb9968d0b8"
      },
      "execution_count": null,
      "outputs": [
        {
          "output_type": "stream",
          "name": "stdout",
          "text": [
            "ko: 2 ~ 95 , en: 2 ~ 111\n"
          ]
        }
      ]
    },
    {
      "cell_type": "markdown",
      "source": [
        "### 3) 단어(토큰) 사전 구축\n",
        "- torchtext.vocab.build_vocab_from_iterator 를 통해서 한글과 영어 단어 사전을 구축\n",
        "- train data에 해당하는 단어들로만 구축\n",
        "- 최소 2번 이상 등장한 단어만 사전으로 구축\n",
        "  - min_freq = 2\n",
        "- 사전에 special 토큰도 포함해줌\n",
        "  - \\<unk>: unknown token\n",
        "  - \\<sos>: start of sentence\n",
        "  - \\<eos>: end of sentence\n",
        "  - \\<pad>: padding"
      ],
      "metadata": {
        "id": "gxrLOZaPX4cp"
      }
    },
    {
      "cell_type": "code",
      "source": [
        "from torchtext.vocab import build_vocab_from_iterator\n",
        "vocab_ko = build_vocab_from_iterator(data['ko_token'][:3153],min_freq=1, specials=[\"<unk>\", \"<sos>\", \"<eos>\", \"<pad>\"])\n",
        "vocab_en = build_vocab_from_iterator(data['en_token'][:3153],min_freq=1, specials=[\"<unk>\", \"<sos>\", \"<eos>\", \"<pad>\"])"
      ],
      "metadata": {
        "id": "VWkRSJARNlz7"
      },
      "execution_count": null,
      "outputs": []
    },
    {
      "cell_type": "markdown",
      "source": [
        "- vocab.get_stoi() 단어를 숫자로 변환하는 사전 (string to int)\n",
        "- vocab.get_itos() 숫자를 단어로 변환하는 사전 (int to string)"
      ],
      "metadata": {
        "id": "1D2qBHpG0v1u"
      }
    },
    {
      "cell_type": "code",
      "source": [
        "ko_stoi = vocab_ko.vocab.get_stoi()\n",
        "en_stoi = vocab_en.vocab.get_stoi()\n",
        "ko_itos = vocab_ko.vocab.get_itos()\n",
        "en_itos = vocab_en.vocab.get_itos()\n",
        "print(\"ko voca 크기:\",len(ko_stoi),\"\\nen voca 크기:\",len(en_stoi))\n",
        "print(\"specital 토큰:\",{k:ko_stoi[k] for k in [\"<unk>\", \"<sos>\", \"<eos>\", \"<pad>\"]})\n",
        "# print(\"specital 토큰:\",{k:en_stoi[k] for k in [\"<unk>\", \"<sos>\", \"<eos>\", \"<pad>\"]})"
      ],
      "metadata": {
        "colab": {
          "base_uri": "https://localhost:8080/"
        },
        "id": "VwnA6FouxRmi",
        "outputId": "4fdfd68d-2b7d-48d9-d7bc-7ec6a049237d"
      },
      "execution_count": null,
      "outputs": [
        {
          "output_type": "stream",
          "name": "stdout",
          "text": [
            "ko voca 크기: 5092 \n",
            "en voca 크기: 2574\n",
            "specital 토큰: {'<unk>': 0, '<sos>': 1, '<eos>': 2, '<pad>': 3}\n"
          ]
        }
      ]
    },
    {
      "cell_type": "markdown",
      "source": [
        "### 4) Token encoding / decoding\n",
        "- 단어 사전을 통해 데이터셋의 단어들을 숫자로 변환\n",
        "  - 시작토큰, 끝토큰, 패딩 추가"
      ],
      "metadata": {
        "id": "4EnRgsJ2zgyz"
      }
    },
    {
      "cell_type": "code",
      "source": [
        "def encode(data,stoi):\n",
        "    unk_token = 0\n",
        "    sos_token = 1\n",
        "    eos_token = 2\n",
        "    encoded = []\n",
        "    for x in data:\n",
        "        encoded.append(\n",
        "            [sos_token]\n",
        "            + [stoi.get(token,unk_token) for token in x]\n",
        "            + [eos_token]\n",
        "        )\n",
        "    return encoded\n",
        "\n",
        "# eos 토큰이 나오면 이후는 모두 pad 토큰일 것임으로 자름 (trim)\n",
        "# itos 사전을 통해 숫자 -> 단어\n",
        "def decode(data,itos):\n",
        "    sos_token = 1\n",
        "    eos_token = 2\n",
        "    pad_token = 3\n",
        "    def trim(sentence,eos_token):\n",
        "        s = []\n",
        "        for w in sentence:\n",
        "            if w == eos_token:\n",
        "                break\n",
        "            s.append(w)\n",
        "        return s\n",
        "    data = [trim(x,eos_token) for x in data]\n",
        "    data = [[itos[i] for i in x if i not in (sos_token,pad_token)] for x in data]\n",
        "    return [' '.join(x)  for x in data]"
      ],
      "metadata": {
        "id": "clLnC_-e0a-y"
      },
      "execution_count": null,
      "outputs": []
    },
    {
      "cell_type": "code",
      "source": [
        "data_ko = encode(data['ko_token'],ko_stoi)\n",
        "data_en = encode(data['en_token'],en_stoi)"
      ],
      "metadata": {
        "id": "ir-U9kxWho-l"
      },
      "execution_count": null,
      "outputs": []
    },
    {
      "cell_type": "markdown",
      "source": [
        "### 5) Dataset 구성\n",
        "- 현재 데이터가 3853개 임으로\n",
        "  - train, valid, test = 3153, 350, 350 로 분리\n",
        "  - train = 0 ~ 3153, valid = 3153 ~ 3503, test = 3503 ~ 3853"
      ],
      "metadata": {
        "id": "B7GSRqZQbgnb"
      }
    },
    {
      "cell_type": "code",
      "source": [
        "train_data = [(data_ko[i],data_en[i]) for i in range(3153)]\n",
        "valid_data = [(data_ko[i],data_en[i]) for i in range(3153,3503)]\n",
        "test_data = [(data_ko[i],data_en[i]) for i in range(3503,3853)]"
      ],
      "metadata": {
        "id": "hVbY3H6agG_r"
      },
      "execution_count": null,
      "outputs": []
    },
    {
      "cell_type": "code",
      "source": [
        "class Dataset():\n",
        "    def __init__(self, dataset):\n",
        "        self.dataset = dataset\n",
        "\n",
        "    def __getitem__(self, idx):\n",
        "        return self.dataset[idx]"
      ],
      "metadata": {
        "id": "RUzl-i_rAOLH"
      },
      "execution_count": null,
      "outputs": []
    },
    {
      "cell_type": "code",
      "source": [
        "train_dataset = Dataset(train_data)"
      ],
      "metadata": {
        "id": "Gb6zt_cqBBQj"
      },
      "execution_count": null,
      "outputs": []
    },
    {
      "cell_type": "code",
      "source": [
        "train_dataset[0]"
      ],
      "metadata": {
        "colab": {
          "base_uri": "https://localhost:8080/"
        },
        "id": "TeDt9eR98Ysl",
        "outputId": "895fac5c-64c8-414b-fd1a-c4836fcb7b5f"
      },
      "execution_count": null,
      "outputs": [
        {
          "output_type": "execute_result",
          "data": {
            "text/plain": [
              "([1, 11, 45, 23, 231, 12, 1365, 554, 252, 4, 2],\n",
              " [1, 5, 194, 15, 5, 115, 50, 1104, 6, 95, 4, 2])"
            ]
          },
          "metadata": {},
          "execution_count": 14
        }
      ]
    },
    {
      "cell_type": "markdown",
      "source": [
        "#### Collate function\n",
        "- collate_fn: DataLoader를 구성할 때, 배치마다 최대 길이에 맞춰 padding을 넣어주는 함수\n",
        "- torch에서 제공하는 pad_sequence 활용"
      ],
      "metadata": {
        "id": "4cVWEqMQLXYE"
      }
    },
    {
      "cell_type": "code",
      "source": [
        "import torch\n",
        "from torch.nn.utils.rnn import pad_sequence"
      ],
      "metadata": {
        "id": "MxLdFknDYt_H"
      },
      "execution_count": null,
      "outputs": []
    },
    {
      "cell_type": "code",
      "source": [
        "def collate_fn(batch_samples):\n",
        "    pad_token = 3\n",
        "\n",
        "    src_sentences = pad_sequence([torch.tensor(src) for src, _ in batch_samples], batch_first=True, padding_value=pad_token)\n",
        "    tgt_sentences = pad_sequence([torch.tensor(tgt) for _, tgt in batch_samples], batch_first=True, padding_value=pad_token)\n",
        "\n",
        "    return src_sentences, tgt_sentences"
      ],
      "metadata": {
        "id": "pTcX2BNtE2t1"
      },
      "execution_count": null,
      "outputs": []
    },
    {
      "cell_type": "markdown",
      "source": [
        "#### Bucketing Sampler\n",
        "- bucketing_sampler: DataLoader를 구성할 때, padding의 길이를 비슷하게 유지하기 위해서 seq의 길이가 유사한 데이터끼리 미리 묶어 놓는 함수 (이미 묶인 배치를 데이터로더를 통해 랜덤하게 학습)\n",
        "- batch size만큼씩 데이터의 인덱스가 묶인 이중 리스트 형태로 반환됨\n",
        "- 예를 들어 50개의 데이터가 있고 batch의 크기를 5로 지정한다면, batch_sampler 통해 (10*5) 모양의 이중 리스트를 반환하게 됨"
      ],
      "metadata": {
        "id": "xEzaQNRrW9Y3"
      }
    },
    {
      "cell_type": "markdown",
      "source": [
        "![Buckting_sampler](https://sooftware.io/static/d35fd77fe1abce1948a61534ae0683af/4c98a/ulb.webp)"
      ],
      "metadata": {
        "id": "vbA-vBCjbgKa"
      }
    },
    {
      "cell_type": "code",
      "source": [
        "import random"
      ],
      "metadata": {
        "id": "rkLh7cJSYvaA"
      },
      "execution_count": null,
      "outputs": []
    },
    {
      "cell_type": "code",
      "source": [
        "class BucketingSampler():\n",
        "    def __init__(self, ko_cnt, en_cnt, batch_size=1,random_seed=False):\n",
        "        data_len = [(x, y, idx) for idx,(x, y) in enumerate(zip(ko_cnt,en_cnt))]\n",
        "        data_len.sort()\n",
        "        data_idx = [data[2] for data in data_len]\n",
        "        self.bins = [data_idx[i:i+batch_size] for i in range(0,len(data_idx), batch_size)]\n",
        "        # seed 설정\n",
        "        if random_seed:\n",
        "            random.seed(random_seed)\n",
        "        # 모델이 batch 길이에 편향되지 않도록 섞음\n",
        "        random.shuffle(self.bins) \n",
        "\n",
        "    def __iter__(self):\n",
        "        for idx_set in self.bins:\n",
        "            yield idx_set"
      ],
      "metadata": {
        "id": "QJJhkoyBfrCx"
      },
      "execution_count": null,
      "outputs": []
    },
    {
      "cell_type": "code",
      "source": [
        "sampler = BucketingSampler(data['ko_cnt'][:3153],data['en_cnt'][:3153], batch_size = 8)"
      ],
      "metadata": {
        "id": "GwwUNY5vhC92"
      },
      "execution_count": null,
      "outputs": []
    },
    {
      "cell_type": "code",
      "source": [
        "for i in sampler:\n",
        "    print(i)\n",
        "    break"
      ],
      "metadata": {
        "colab": {
          "base_uri": "https://localhost:8080/"
        },
        "id": "XV5u-BRK15Iz",
        "outputId": "487860a8-fa1c-48b8-a4b2-81a27c445ec5"
      },
      "execution_count": null,
      "outputs": [
        {
          "output_type": "stream",
          "name": "stdout",
          "text": [
            "[1872, 1878, 1936, 1986, 1993, 2008, 2009, 2031]\n"
          ]
        }
      ]
    },
    {
      "cell_type": "markdown",
      "source": [
        "### 6) DataLoader 생성"
      ],
      "metadata": {
        "id": "DUwuDBrtIm3j"
      }
    },
    {
      "cell_type": "code",
      "source": [
        "from torch.utils.data import DataLoader"
      ],
      "metadata": {
        "id": "EcOIeAgR71Ql"
      },
      "execution_count": null,
      "outputs": []
    },
    {
      "cell_type": "code",
      "source": [
        "train_loader = DataLoader(\n",
        "    dataset=train_dataset,\n",
        "    batch_sampler=sampler,\n",
        "    collate_fn=collate_fn,\n",
        ")"
      ],
      "metadata": {
        "id": "q8SGdNGh729x"
      },
      "execution_count": null,
      "outputs": []
    },
    {
      "cell_type": "code",
      "source": [
        "for ko,en in train_loader:\n",
        "    print(ko)\n",
        "    print(en)\n",
        "    break"
      ],
      "metadata": {
        "colab": {
          "base_uri": "https://localhost:8080/"
        },
        "id": "zDAxQUK9726D",
        "outputId": "7dde98b3-ffc3-4717-9e95-11f5b3e3f18c"
      },
      "execution_count": null,
      "outputs": [
        {
          "output_type": "stream",
          "name": "stdout",
          "text": [
            "tensor([[   1,   13,   51, 3863, 2331,    4,    2],\n",
            "        [   1,   10,  210, 3373,   54,    4,    2],\n",
            "        [   1,   13, 2348, 3890, 3511,    4,    2],\n",
            "        [   1,   11,   23, 4347,  166,    4,    2],\n",
            "        [   1,   13, 3551,   13, 3531,    4,    2],\n",
            "        [   1,    5, 2204, 3229, 3659,    4,    2],\n",
            "        [   1,    8,  148, 1425, 1474,    4,    2],\n",
            "        [   1, 1920,   29, 1075,  347,    6,    2]])\n",
            "tensor([[   1,   58,   14,   17,   35, 1858,    4,    2],\n",
            "        [   1,    5,  108,   32,    7,  399,    4,    2],\n",
            "        [   1,   43, 1747,   19, 1016, 2511,    4,    2],\n",
            "        [   1,    5,  194,    5,   92, 1287,    4,    2],\n",
            "        [   1, 1412,  277,   18,   42, 1228,    4,    2],\n",
            "        [   1,    6,  314,    7,   29, 2062,    4,    2],\n",
            "        [   1,    5,  355,   13,  289,  184,    4,    2],\n",
            "        [   1,  255,    9,  457,  128,   15,    8,    2]])\n"
          ]
        }
      ]
    },
    {
      "cell_type": "markdown",
      "source": [
        "## 2. Attention\n",
        "Scaled Dot-Product Attention은 Multi-Head Attention 에 포함된 부분"
      ],
      "metadata": {
        "id": "FJX3hwLS-MJh"
      }
    },
    {
      "cell_type": "markdown",
      "source": [
        "### 1) Scaled Dot-Product Attention"
      ],
      "metadata": {
        "id": "696iEbefD5j_"
      }
    },
    {
      "cell_type": "markdown",
      "source": [
        "![image.png](data:image/png;base64,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)"
      ],
      "metadata": {
        "id": "aPvXsQPBD2uq"
      }
    },
    {
      "cell_type": "markdown",
      "source": [
        "- dot-production(내적)이 사용되고, scale이 조정되기 때문에 이름이 붙여짐\n",
        "- 여기서 MatMul이 각각의 행렬에 대하여 내적을 계산함\n",
        "- scale 조절은 MatMul을 통과한 결과에 (K의 dimension($d_k$)에 루트 값을 취한 $\\sqrt d_k$ 으로 나누어줌\n",
        "- mask를 사용한다면 마스킹된 값을 음수(-1e10=-10,000,000,000)로 만들어줌\n",
        "  - 논문에서는 setting to −∞ 라고 표현\n",
        "- softmax를 통해 내적을 통해 커진 값을 축소함"
      ],
      "metadata": {
        "id": "0Pu8ln7Y_X7R"
      }
    },
    {
      "cell_type": "markdown",
      "source": [
        "$Attention(Q,K,V) = softmax(\\frac{QK^T}{\\sqrt d_k})V$\n",
        "- Q,K,V 는 [batch_size, head, seq_len, head_dim]\n",
        "- 논문에서는 head$(h) = 8$, head_dim$(d_k=d_v) = 64$"
      ],
      "metadata": {
        "id": "pSn2WIpVEKm-"
      }
    },
    {
      "cell_type": "markdown",
      "source": [
        "##### 알고리즘 순서\n",
        "1. $K$를 transpose하기\n",
        "2. $Q$ 와 $K^T$ 의 MatMul\n",
        "3. scale 곱하기\n",
        "4. Mask가 있다면 해당 부위 $-1e10$으로 채우기\n",
        "5. $softmax$ 취하기\n",
        "  - 결과 값은 attention 결과 확인용으로 사용 가능 \n",
        "  - [batch_size, head, seq_len, seq_len]\n",
        "6. attention 결과값과 $V$ MatMul 계산하기"
      ],
      "metadata": {
        "id": "dbOaNCdplee_"
      }
    },
    {
      "cell_type": "code",
      "source": [
        "import torch\n",
        "from torch import nn"
      ],
      "metadata": {
        "id": "ezly8qfKIXhG"
      },
      "execution_count": 17,
      "outputs": []
    },
    {
      "cell_type": "code",
      "source": [
        "class ScaleDotProductAttention(nn.Module):\n",
        "    def __init__(self):\n",
        "        super().__init__()\n",
        "        self.softmax = nn.Softmax(dim=-1) # dim = -1 은 단어들에 해당하는 위치 ([batch_size, head, seq_len, seq_len])\n",
        "        \n",
        "    def forward(self, q, k, v, mask=None):\n",
        "        # q,k,v 의 크기는 같음 \n",
        "        # [batch_size, head, seq_len, head_dim(기존 d_model을 head 수로 나눈 각 head의 dim)]\n",
        "        batch_size, head, seq_len, head_dim = q.size()\n",
        "\n",
        "        # 1. K를 transpose하기 (seq_len, head_dim의 위치 전환)\n",
        "        k_t = k.transpose(-1,-2)\n",
        "\n",
        "        # 2. Q 와 K^T 의 MatMul\n",
        "        attention_score = torch.matmul(q,k_t)\n",
        "        # attention_score: [batch_size, head, seq_len, seq_len]\n",
        "\n",
        "        # 3. scale(1/sqrt(d_k == head_dim)) 곱하기\n",
        "        attention_score /= torch.sqrt(torch.Tensor([head_dim]))\n",
        "\n",
        "        # 4. Mask가 있다면 해당 부위 -1e10으로 채우기\n",
        "        if mask:\n",
        "            attention_score = attention_score.masked_fill(mask==0,-1e10) # Tensor.masked_fill_(mask_boolean, value)\n",
        "        \n",
        "        # 5. softmax 취하기 \n",
        "        attention_score = self.softmax(attention_score)\n",
        "\n",
        "        # 6. attention 결과값과 V MatMul 계산하기\n",
        "        result = torch.matmul(attention_score, v)\n",
        "        \n",
        "        return result, attention_score"
      ],
      "metadata": {
        "id": "0nJ813PmkqVi"
      },
      "execution_count": 18,
      "outputs": []
    },
    {
      "cell_type": "markdown",
      "source": [
        "### 2) Multi-Head Attention"
      ],
      "metadata": {
        "id": "3FtDkGJODwgY"
      }
    },
    {
      "cell_type": "markdown",
      "source": [
        "![image.png](data:image/png;base64,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)"
      ],
      "metadata": {
        "id": "YBQayXbSDtfe"
      }
    },
    {
      "cell_type": "markdown",
      "source": [
        "- key, value, query 단일 attention function을 쓰는 것보다 k,v,q를 각각 $d_k, d_k, d_v$ 차원으로 projection하여 $h$ 번 학습시키는 것\n",
        "  - projection 한다는 것은 Linear Layer (fc layer)를 통과한다는 것 -> Weight\n",
        "- 여기서 $h$ 번 학습은 key, value, query 를 $h$ 개로 나누어서 따로 병렬 학습하는 것을 말함\n",
        "- 이후 $h$ 쌍의 head는 다시 합쳐지고(Concat) $d_{model}$ 차원으로 projection 됨"
      ],
      "metadata": {
        "id": "ElUsr7EmEWB6"
      }
    },
    {
      "cell_type": "markdown",
      "source": [
        "$MultiHead (Q, K, V) = Concat(head_1, ..., head_h)W^O,$\n",
        "\n",
        "$where$  $head_i = Attention(QW^Q_i, KW^K_i, VW^V_i)$\n",
        "- Q,K,V 는 [batch_size, seq_len, d_model]\n",
        "- 논문에서는 $d_{model} = 512,  h = 8,  dk = dv = d_{model}/h = 64$ 을 사용함"
      ],
      "metadata": {
        "id": "a3htGewAQi_G"
      }
    },
    {
      "cell_type": "markdown",
      "source": [
        "##### 알고리즘 순서\n",
        "1. $Q,K,V$를  $d_k, d_k, d_v$ 차원으로 projection\n",
        "2. $Q,K,V$를 head 수 만큼 분리해주기\n",
        "3. Scaled Dot-Product Attention 을 수행하기\n",
        "4. 분리된 head들을 concat 하기\n",
        "5. $d_{model}$ 차원으로 projection"
      ],
      "metadata": {
        "id": "kh9MIdIkTBfY"
      }
    },
    {
      "cell_type": "code",
      "source": [
        "import torch\n",
        "from torch import nn"
      ],
      "metadata": {
        "id": "fOBH5yxkxxkf"
      },
      "execution_count": null,
      "outputs": []
    },
    {
      "cell_type": "code",
      "source": [
        "class MultiHeadAttention(nn.Module):\n",
        "    def __init__(self,d_model,head):\n",
        "        super().__init__()\n",
        "        self.d_model = d_model\n",
        "        self.head = head\n",
        "        self.head_dim = d_model // head\n",
        "        self.w_q = nn.Linear(d_model,d_model)\n",
        "        self.w_k = nn.Linear(d_model,d_model)\n",
        "        self.w_v = nn.Linear(d_model,d_model)\n",
        "        self.w_o = nn.Linear(d_model,d_model)\n",
        "        self.attention = ScaleDotProductAttention()\n",
        "\n",
        "    def forward(self, q, k, v, mask=None):\n",
        "        #  [batch_size, seq_len, d_model]\n",
        "        batch_size, seq_len, d_model = q.size()\n",
        "\n",
        "        # 1. Q,K,V를  d_k, d_k, d_v 차원으로 projection\n",
        "        q, k, v = self.w_q(q), self.w_k(k), self.w_v(v)\n",
        "\n",
        "        # 2. Q,K,V를 head 수 만큼 분리해주기 -> [batch_size, head, seq_len, head_dim]\n",
        "        q = torch.cat(q.chunk(self.head, dim=-1), dim=0)\n",
        "        k = torch.cat(k.chunk(self.head, dim=-1), dim=0)\n",
        "        v = torch.cat(v.chunk(self.head, dim=-1), dim=0)\n",
        "\n",
        "        # 3. Scaled Dot-Product Attention 을 수행하기\n",
        "        out, attention_score = self.attention(q,k,v,mask)\n",
        "\n",
        "        # 4. 분리된 head들을 concat 하기\n",
        "        out = torch.cat(out.chunk(self.head,dim=0),dim=-1)\n",
        "\n",
        "        # 5. d_model 차원으로 projection\n",
        "        out = self.w_o(out)\n",
        "\n",
        "        return out, attention_score"
      ],
      "metadata": {
        "id": "154fTj2CWrAH"
      },
      "execution_count": null,
      "outputs": []
    },
    {
      "cell_type": "markdown",
      "source": [
        "## 3. Position-wise Fully Connected Feed-Forward Network\n"
      ],
      "metadata": {
        "id": "tEhMM02k1cWx"
      }
    },
    {
      "cell_type": "markdown",
      "source": [
        "$FFN(x) = max(0, xW_1+b_1)W_2 + b_2$\n",
        "- 논문에서 $d_{model}=512, d_{ff} = 2048$을 사용\n",
        "- 여기서 $max(0,X)$는 ReLU 활성함수 사용을 의미\n",
        "- xW+b는 Linear Layer (fc layer)를 통과하는 것을 의미\n"
      ],
      "metadata": {
        "id": "tpfruvde1qf8"
      }
    },
    {
      "cell_type": "markdown",
      "source": [
        "##### 알고리즘 순서\n",
        "1. x의 Linear Layer1 통과\n",
        "2. ReLU 적용\n",
        "3. Linear Layer2 통과"
      ],
      "metadata": {
        "id": "mBVFO9xL3BOH"
      }
    },
    {
      "cell_type": "code",
      "source": [
        "from torch import nn"
      ],
      "metadata": {
        "id": "o_Vdh2je1oJ2"
      },
      "execution_count": 1,
      "outputs": []
    },
    {
      "cell_type": "code",
      "source": [
        "class PositionWiseFCFeedForwardNetwork(nn.Module):\n",
        "    def __init__(self,d_model,d_ff):\n",
        "        super().__init__()\n",
        "        self.w_1 = nn.Linear(d_model,d_ff)\n",
        "        self.w_2 = nn.Linear(d_ff,d_model)\n",
        "    \n",
        "    def forward(self, x):\n",
        "        # Linear Layer1\n",
        "        x = self.w_1(x)\n",
        "\n",
        "        # ReLU\n",
        "        x = nn.ReLU(x)\n",
        "        \n",
        "        # Linear Layer2\n",
        "        x = self.w_2(x)\n",
        "\n",
        "        return x"
      ],
      "metadata": {
        "id": "CQYrMrWx1oEa"
      },
      "execution_count": 2,
      "outputs": []
    },
    {
      "cell_type": "markdown",
      "source": [
        "## 4. Positional Encoding\n",
        "- 문자 시퀀스의 위치 정보를 알려주는 역할\n"
      ],
      "metadata": {
        "id": "dkRWmK-1z3gp"
      }
    },
    {
      "cell_type": "markdown",
      "source": [
        "$PE_{(pos,2i)} = sin(pos/10000^{2i/d_{model}})$   \n",
        "$PE_{(pos,2i+1)} = cos(pos/10000^{2i/d_{model}})$\n",
        "- $pos$는 위치이고 $i$는 $d_{model}$차원을 뜻함"
      ],
      "metadata": {
        "id": "2JnXlTz8cpei"
      }
    },
    {
      "cell_type": "code",
      "source": [
        "import torch\n",
        "from torch import nn"
      ],
      "metadata": {
        "id": "tlq7ZikJ8S7-"
      },
      "execution_count": 1,
      "outputs": []
    },
    {
      "cell_type": "code",
      "source": [
        "class PositionalEncoding(nn.Module):\n",
        "    def __init__(self, d_model, max_len):\n",
        "        super().__init__()\n",
        "\n",
        "        # self.P_E는 [max_len,d_model]로 초기화 -> 입력 seq 길이에 따라 잘라서 사용 \n",
        "        # (여러번 생성할 필요 없음)\n",
        "        self.P_E = torch.zeros(max_len,d_model)\n",
        "    \n",
        "        # 문자 시퀀스의 위치 순서 (row => 2d)\n",
        "        pos = torch.arange(0, max_len, dtype=torch.float).unsqueeze(dim=1)\n",
        "\n",
        "        # d_model 차원을 채울 i 값 (col)\n",
        "        # 2i는 step = 2 를 활용하여 i의 2배수를 만듦\n",
        "        _2i = torch.arange(0, d_model, step= 2, dtype=torch.float)\n",
        "\n",
        "        # 제안된 positional encoding 생성\n",
        "        self.P_E[:, 0::2] = torch.sin(pos / 10000 ** (_2i / d_model))\n",
        "        self.P_E[:, 1::2] = torch.cos(pos / 10000 ** (_2i / d_model))\n",
        "\n",
        "    def forward(self,x):\n",
        "        # x seq 길이에 맞춰 PE 크기 조절\n",
        "        batch_size, seq_len = x.size()\n",
        "        PE_for_x = self.P_E[:seq_len,:]\n",
        "\n",
        "        return PE_for_x"
      ],
      "metadata": {
        "id": "per90oAWzrBq"
      },
      "execution_count": 20,
      "outputs": []
    },
    {
      "cell_type": "markdown",
      "source": [
        "## 5. Encoder Layer"
      ],
      "metadata": {
        "id": "VhFDZ6_c6EVI"
      }
    },
    {
      "cell_type": "markdown",
      "source": [
        "![image.png](data:image/png;base64,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)\n"
      ],
      "metadata": {
        "id": "uPO0-qYt6hJe"
      }
    },
    {
      "cell_type": "markdown",
      "source": [
        "##### 알고리즘 순서\n",
        "1. multi-head attention\n",
        "2. add & norm\n",
        "  - residual connection을 적용하여 multi-head attention을 들어가지 않은 x와 통과한 out을 더해주는 것\n",
        "  - 이때 attention을 빠져나온 output에 dropout 적용\n",
        "  - norm 은 layer normalization 을 의미\n",
        "3. position-wise fc feed-forward network\n",
        "4. add & norm"
      ],
      "metadata": {
        "id": "Cis1nP6wSxfv"
      }
    },
    {
      "cell_type": "code",
      "source": [
        "from torch import nn"
      ],
      "metadata": {
        "id": "W8zan9SU6pJ1"
      },
      "execution_count": null,
      "outputs": []
    },
    {
      "cell_type": "code",
      "source": [
        "class EncoderLayer(nn.Module):\n",
        "    def __init__(self, d_model, head, d_ff, dropout):\n",
        "        super().__init()\n",
        "        self.attention = MultiHeadAttention(d_model,head)\n",
        "        self.layerNorm1 = nn.LayerNorm(d_model)\n",
        "\n",
        "        self.ffn = PositionWiseFCFeedForwardNetwork(d_model,d_ff)\n",
        "        self.layerNorm2 = nn.LayerNorm(d_model)\n",
        "\n",
        "        self.dropout = nn.Dropout(dropout)\n",
        "\n",
        "    def forward(self, x, mask):\n",
        "        # 1. multi-head attention\n",
        "        residual = x  # residual connection을 위해 잠시 담아둠\n",
        "        x, attention_score = self.attention(q=x, k=x, v=x, mask=mask)\n",
        "\n",
        "        # 2. add & norm\n",
        "        x = self.dropout(x) + residual\n",
        "        x = self.layerNorm1(x)\n",
        "        \n",
        "        # 3. position-wise fc feed-forward network\n",
        "        residual = x\n",
        "        x = self.ffn(x)\n",
        "\n",
        "        # 5. add & norm\n",
        "        x = self.dropout(x) + residual\n",
        "        x = self.layerNorm2(x)\n",
        "\n",
        "        return x, attention_score"
      ],
      "metadata": {
        "id": "AN2KsBBcVkl7"
      },
      "execution_count": null,
      "outputs": []
    },
    {
      "cell_type": "markdown",
      "source": [
        "## 6. Encoder"
      ],
      "metadata": {
        "id": "VFxc1PgJGpb6"
      }
    },
    {
      "cell_type": "markdown",
      "source": [
        "![image.png](data:image/png;base64,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)"
      ],
      "metadata": {
        "id": "dHs_5SI2HFy1"
      }
    },
    {
      "cell_type": "markdown",
      "source": [
        "##### 알고리즘 순서\n",
        "1. input embedding 생성\n",
        "2. positional encoding 과 더하기\n",
        "3. n 번 EncoderLayer 반복하기"
      ],
      "metadata": {
        "id": "7d99weVrGx21"
      }
    },
    {
      "cell_type": "code",
      "source": [
        "import torch\n",
        "from torch import nn"
      ],
      "metadata": {
        "id": "B8W38JbjGyk7"
      },
      "execution_count": 2,
      "outputs": []
    },
    {
      "cell_type": "code",
      "source": [],
      "metadata": {
        "id": "TK5hGKriCDnS"
      },
      "execution_count": null,
      "outputs": []
    },
    {
      "cell_type": "code",
      "source": [],
      "metadata": {
        "id": "44ZjKlcFCDEA"
      },
      "execution_count": null,
      "outputs": []
    },
    {
      "cell_type": "code",
      "source": [],
      "metadata": {
        "id": "PC9Lnh9BCDBM"
      },
      "execution_count": null,
      "outputs": []
    },
    {
      "cell_type": "code",
      "source": [],
      "metadata": {
        "id": "Z-AieWe0CC-L"
      },
      "execution_count": null,
      "outputs": []
    },
    {
      "cell_type": "markdown",
      "source": [
        "## 7. Decoder Layer"
      ],
      "metadata": {
        "id": "m3sPBymDJ1Va"
      }
    },
    {
      "cell_type": "markdown",
      "source": [
        "![image.png](data:image/png;base64,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)"
      ],
      "metadata": {
        "id": "keXYUEeXJ_ep"
      }
    },
    {
      "cell_type": "markdown",
      "source": [
        "##### 알고리즘 순서\n",
        "1. masked multi-head attention\n",
        "2. add & norm\n",
        "3. multi-head attention\n",
        "4. add & norm\n",
        "5. position-wise fc feed-forward network\n",
        "6. add & norm"
      ],
      "metadata": {
        "id": "yQhHTKoSKCyO"
      }
    },
    {
      "cell_type": "code",
      "source": [],
      "metadata": {
        "id": "iaElUjsEJ-8-"
      },
      "execution_count": null,
      "outputs": []
    },
    {
      "cell_type": "code",
      "source": [],
      "metadata": {
        "id": "LnlsDGJTJ-1J"
      },
      "execution_count": null,
      "outputs": []
    },
    {
      "cell_type": "code",
      "source": [],
      "metadata": {
        "id": "ComU9UKuJ-wB"
      },
      "execution_count": null,
      "outputs": []
    },
    {
      "cell_type": "code",
      "source": [],
      "metadata": {
        "id": "WbolCMrBzqhO"
      },
      "execution_count": 28,
      "outputs": []
    },
    {
      "cell_type": "code",
      "source": [],
      "metadata": {
        "id": "_yRzKuYUTYvo"
      },
      "execution_count": null,
      "outputs": []
    },
    {
      "cell_type": "code",
      "source": [],
      "metadata": {
        "id": "_xZJS7bDTYsa"
      },
      "execution_count": null,
      "outputs": []
    },
    {
      "cell_type": "code",
      "source": [],
      "metadata": {
        "id": "OlZMqCiBCmmv"
      },
      "execution_count": null,
      "outputs": []
    },
    {
      "cell_type": "code",
      "source": [],
      "metadata": {
        "id": "gNP2M3AJCmi5"
      },
      "execution_count": null,
      "outputs": []
    },
    {
      "cell_type": "markdown",
      "source": [
        "기타 참고"
      ],
      "metadata": {
        "id": "JbmScpukWpG2"
      }
    },
    {
      "cell_type": "code",
      "source": [
        "# torch 에서 데이터를 나누는 방법\n",
        "import torch\n",
        "x = torch.rand(1,2,3,12)\n",
        "# 1. split : n 개씩 그룹핑 하는 방법\n",
        "y = x.split(4,dim=-1)\n",
        "print(\"split\")\n",
        "for s in y:\n",
        "    print(s.size())\n",
        "# 2. chunk : n 개의 그룹으로 나누는 방법\n",
        "z = x.chunk(4, dim=-1)\n",
        "print(\"chunk\")\n",
        "for c in z:\n",
        "    print(c.size())"
      ],
      "metadata": {
        "colab": {
          "base_uri": "https://localhost:8080/"
        },
        "id": "VK8gSLRFyZi-",
        "outputId": "f6c55ccc-2d1e-4b2d-b12d-d6f7080db76c"
      },
      "execution_count": null,
      "outputs": [
        {
          "output_type": "stream",
          "name": "stdout",
          "text": [
            "split\n",
            "torch.Size([1, 2, 3, 4])\n",
            "torch.Size([1, 2, 3, 4])\n",
            "torch.Size([1, 2, 3, 4])\n",
            "chunk\n",
            "torch.Size([1, 2, 3, 3])\n",
            "torch.Size([1, 2, 3, 3])\n",
            "torch.Size([1, 2, 3, 3])\n",
            "torch.Size([1, 2, 3, 3])\n"
          ]
        }
      ]
    },
    {
      "cell_type": "code",
      "source": [
        "# torch sqrt가 가장 빠름\n",
        "! python -mtimeit -s\"import math;import torch; x = 123\" \"x**.5\"\n",
        "! python -mtimeit -s\"import math; import torch; x = 123\" \"math.sqrt(x)\"\n",
        "! python -mtimeit -s\"import math;import torch; x = 123\" \"torch.sqrt(torch.LongTensor([x]))\""
      ],
      "metadata": {
        "colab": {
          "base_uri": "https://localhost:8080/"
        },
        "id": "XIkmp1CYGLlJ",
        "outputId": "3149a61e-13e6-40c9-c05a-eb602ffc291d"
      },
      "execution_count": null,
      "outputs": [
        {
          "output_type": "stream",
          "name": "stdout",
          "text": [
            "2000000 loops, best of 5: 141 nsec per loop\n",
            "5000000 loops, best of 5: 76.2 nsec per loop\n",
            "50000 loops, best of 5: 8.65 usec per loop\n"
          ]
        }
      ]
    },
    {
      "cell_type": "code",
      "source": [
        "# view vs transpose vs permute \n",
        "import torch\n",
        "x = torch.rand(1, 2, 3, 4)\n",
        "# view는 shape을 바꿀때 사용\n",
        "v = x.view(4, 6) # 주어진 shape에 맞게 x를 순서대로 나열\n",
        "# transpose와 permute는 같은 역할\n",
        "y = x.transpose(2,3)  # 자리를 바꿀 두가지 위치만\n",
        "z = x.permute(0, 1, 3, 2) # 여러개를 동시에 위치를 바꿀 수 있음\n",
        "print(\"x:\",x)\n",
        "print(\"view:\",v)\n",
        "print(\"y==z:\",y)\n",
        "print(\"y_size:\",y.size())\n",
        "print(\"z_size:\",z.size())"
      ],
      "metadata": {
        "colab": {
          "base_uri": "https://localhost:8080/"
        },
        "id": "yM4o9czTGR9l",
        "outputId": "645b580a-24e3-4b69-defc-9a2a0064af38"
      },
      "execution_count": null,
      "outputs": [
        {
          "output_type": "stream",
          "name": "stdout",
          "text": [
            "x: tensor([[[[0.8530, 0.3703, 0.7778, 0.3644],\n",
            "          [0.9095, 0.8721, 0.9329, 0.0492],\n",
            "          [0.3753, 0.9459, 0.1605, 0.2636]],\n",
            "\n",
            "         [[0.1008, 0.5555, 0.9933, 0.2101],\n",
            "          [0.0928, 0.5636, 0.2046, 0.9553],\n",
            "          [0.1892, 0.1911, 0.0958, 0.1915]]]])\n",
            "view: tensor([[0.8530, 0.3703, 0.7778, 0.3644, 0.9095, 0.8721],\n",
            "        [0.9329, 0.0492, 0.3753, 0.9459, 0.1605, 0.2636],\n",
            "        [0.1008, 0.5555, 0.9933, 0.2101, 0.0928, 0.5636],\n",
            "        [0.2046, 0.9553, 0.1892, 0.1911, 0.0958, 0.1915]])\n",
            "y==z: tensor([[[[0.8530, 0.9095, 0.3753],\n",
            "          [0.3703, 0.8721, 0.9459],\n",
            "          [0.7778, 0.9329, 0.1605],\n",
            "          [0.3644, 0.0492, 0.2636]],\n",
            "\n",
            "         [[0.1008, 0.0928, 0.1892],\n",
            "          [0.5555, 0.5636, 0.1911],\n",
            "          [0.9933, 0.2046, 0.0958],\n",
            "          [0.2101, 0.9553, 0.1915]]]])\n",
            "y_size: torch.Size([1, 2, 4, 3])\n",
            "z_size: torch.Size([1, 2, 4, 3])\n"
          ]
        }
      ]
    },
    {
      "cell_type": "code",
      "source": [
        "import torch\n",
        "x = torch.rand(1, 3, 4)\n",
        "print(x)\n",
        "# view는 shape을 바꿀때 사용\n",
        "v = x.view(1,2,3,2)\n",
        "print(v)\n",
        "w = x.view(1,3,2,2).transpose(1,2).contiguous()\n",
        "print(w)\n",
        "m = torch.cat(x.chunk(2, dim=-1),dim=0)\n",
        "print(m)\n",
        "y = w.transpose(1,2).contiguous().view(1,3,4)\n",
        "print(y)\n",
        "z = torch.cat(m.chunk(2,dim=0),dim=-1)\n",
        "print(z)\n",
        "print(v.is_contiguous(),w.is_contiguous(),m.is_contiguous(),z.is_contiguous(),z.is_contiguous())"
      ],
      "metadata": {
        "id": "x_Yt7cmF-EwD"
      },
      "execution_count": null,
      "outputs": []
    },
    {
      "cell_type": "code",
      "source": [
        "# 속도비교\n",
        "! python -mtimeit -s\"import torch; x = torch.rand(500,3, 4)\" \"m = torch.cat(x.chunk(2, dim=-1),dim=0);w = x.view(500,3,2,2).transpose(1,2).contiguous();x.view(500,3,2,2).transpose(1,2)\"\n",
        "! python -mtimeit -s\"import torch; x = torch.rand(500,3, 4)\" \"m = torch.cat(x.chunk(2, dim=-1),dim=0);w = x.view(500,3,2,2).transpose(1,2).contiguous();w.transpose(1,2).contiguous().view(500,3,4)\"\n",
        "! python -mtimeit -s\"import torch; x = torch.rand(500,3, 4)\" \"m = torch.cat(x.chunk(2, dim=-1),dim=0);w = x.view(500,3,2,2).transpose(1,2).contiguous();torch.cat(x.chunk(2, dim=-1),dim=0)\"\n",
        "! python -mtimeit -s\"import torch; x = torch.rand(500,3, 4)\" \"m = torch.cat(x.chunk(2, dim=-1),dim=0);w = x.view(500,3,2,2).transpose(1,2).contiguous();torch.cat(m.chunk(2,dim=0),dim=-1)\""
      ],
      "metadata": {
        "colab": {
          "base_uri": "https://localhost:8080/"
        },
        "id": "8VzLvcfk_6GK",
        "outputId": "0030efa8-8dcb-4cbb-eded-9f5059b55faf"
      },
      "execution_count": 36,
      "outputs": [
        {
          "output_type": "stream",
          "name": "stdout",
          "text": [
            "5000 loops, best of 5: 85.5 usec per loop\n",
            "2000 loops, best of 5: 157 usec per loop\n",
            "2000 loops, best of 5: 100 usec per loop\n",
            "2000 loops, best of 5: 103 usec per loop\n"
          ]
        }
      ]
    },
    {
      "cell_type": "code",
      "source": [
        "# \"broadcastable\" -> masked_fill 함수를 사용하기 위해서 지켜야함\n",
        "# 오른쪽 부터 차원을 비교하면서 차원이 1이거나 같으면 괜찮음\n",
        "import torch\n",
        "x = torch.rand(3, 2, 5)\n",
        "y = torch.rand(   2, 1)\n",
        "print((x+y).size())\n",
        "y_ = torch.rand(  3, 1) # 뒤에서 두번째 차원이 다름 2 != 3\n",
        "try:\n",
        "    print((x+y_).size())\n",
        "except:\n",
        "    print(\"Not broadcastable\")\n"
      ],
      "metadata": {
        "colab": {
          "base_uri": "https://localhost:8080/"
        },
        "id": "P0M2PxTYxlMo",
        "outputId": "88675a6b-77bc-452d-c7fd-cfcfa1a9604e"
      },
      "execution_count": 1,
      "outputs": [
        {
          "output_type": "stream",
          "name": "stdout",
          "text": [
            "torch.Size([3, 2, 5])\n",
            "Not broadcastable\n"
          ]
        }
      ]
    },
    {
      "cell_type": "code",
      "source": [
        "# 단어 하나씩 생길때 마스킹\n",
        "torch.rand(2, 5, 5) * torch.tril(torch.ones(5,5).type(torch.BoolTensor))"
      ],
      "metadata": {
        "colab": {
          "base_uri": "https://localhost:8080/"
        },
        "id": "urSRcrNExW09",
        "outputId": "c262ce55-f26b-49db-cbb0-040d5e9d1dba"
      },
      "execution_count": 13,
      "outputs": [
        {
          "output_type": "execute_result",
          "data": {
            "text/plain": [
              "tensor([[[0.8915, 0.0000, 0.0000, 0.0000, 0.0000],\n",
              "         [0.9487, 0.1854, 0.0000, 0.0000, 0.0000],\n",
              "         [0.7553, 0.1614, 0.0468, 0.0000, 0.0000],\n",
              "         [0.1336, 0.3789, 0.0145, 0.1136, 0.0000],\n",
              "         [0.0707, 0.4921, 0.8375, 0.8808, 0.3676]],\n",
              "\n",
              "        [[0.0875, 0.0000, 0.0000, 0.0000, 0.0000],\n",
              "         [0.3542, 0.6878, 0.0000, 0.0000, 0.0000],\n",
              "         [0.0945, 0.9751, 0.9836, 0.0000, 0.0000],\n",
              "         [0.1772, 0.1849, 0.4716, 0.9784, 0.0000],\n",
              "         [0.1952, 0.0879, 0.3361, 0.9876, 0.9677]]])"
            ]
          },
          "metadata": {},
          "execution_count": 13
        }
      ]
    },
    {
      "cell_type": "code",
      "source": [],
      "metadata": {
        "id": "AeP0jU0z2zoB"
      },
      "execution_count": null,
      "outputs": []
    }
  ]
}